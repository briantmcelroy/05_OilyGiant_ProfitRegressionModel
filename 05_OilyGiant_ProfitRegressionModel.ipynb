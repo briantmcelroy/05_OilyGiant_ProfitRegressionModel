{
 "cells": [
  {
   "cell_type": "markdown",
   "metadata": {},
   "source": [
    "**Review**\n",
    "\n",
    "Hello Brian!\n",
    "\n",
    "I'm happy to review your project today.\n",
    "  \n",
    "You can find my comments in colored markdown cells:\n",
    "  \n",
    "<div class=\"alert alert-success\">\n",
    "  If everything is done successfully.\n",
    "</div>\n",
    "  \n",
    "<div class=\"alert alert-warning\">\n",
    "  If I have some (optional) suggestions, or questions to think about, or general comments.\n",
    "</div>\n",
    "  \n",
    "<div class=\"alert alert-danger\">\n",
    "  If a section requires some corrections. Work can't be accepted with red comments.\n",
    "</div>\n",
    "  \n",
    "Please don't remove my comments, as it will make further review iterations much harder for me.\n",
    "  \n",
    "Feel free to reply to my comments or ask questions using the following template:\n",
    "  \n",
    "<div class=\"alert alert-info\">\n",
    "  For your comments and questions.\n",
    "</div>\n",
    "   \n",
    "First of all, thank you for turning in the project! You did an excellent job! The project is accepted. Keep up the good work on the next sprint!"
   ]
  },
  {
   "cell_type": "markdown",
   "metadata": {},
   "source": [
    "# Introduction\n",
    "\n",
    "In the below analysis we will be studying the data for 100,000 drilling points for each of three regions for prospective oil wells. Each drilling point has three unknown features which theoretically correspond to the size of the oil reserve each drilling point has. We will train regression models for each region taking these three features as inputs and the oil reserve amount as targets. Because we will base our business' future surveys (and thereby future wells) on the predictions made by the model, our metric for suitable region to drill is profitability of the region based solely on model predictions. We can use a bootstrapping technique to estimate the 95% confidence interval of how well a model selects the best 200 drilling points out of a random 500 points. If a model selects 200 drilling points that are ultimately profitable against the cost of drilling, we will count that as a success.\n",
    "\n",
    "\n",
    "## Initialize Libraries, Look at Dataframe, Clean the Data\n",
    "\n",
    "### Libraries"
   ]
  },
  {
   "cell_type": "code",
   "execution_count": 1,
   "metadata": {},
   "outputs": [],
   "source": [
    "# Statistical libraries\n",
    "import pandas as pd\n",
    "from scipy import stats as st\n",
    "import numpy as np\n",
    "from sklearn.metrics import *\n",
    "from sklearn.utils import shuffle\n",
    "from sklearn.preprocessing import StandardScaler\n",
    "\n",
    "# Machine Learning libraries\n",
    "from sklearn.linear_model import LinearRegression\n",
    "from sklearn.model_selection import train_test_split\n",
    "\n",
    "# Graphing libraries\n",
    "from matplotlib import pyplot as plt"
   ]
  },
  {
   "cell_type": "code",
   "execution_count": 1,
   "metadata": {},
   "outputs": [
    {
     "name": "stdout",
     "output_type": "stream",
     "text": [
      "  adding: datasets/geo_data_2.csv (deflated 47%)\n",
      "  adding: datasets/geo_data_1.csv (deflated 56%)\n",
      "  adding: datasets/geo_data_0.csv (deflated 47%)\n"
     ]
    }
   ],
   "source": [
    "!zip -r oilygiant.zip /datasets/geo_data_2.csv /datasets/geo_data_1.csv /datasets/geo_data_0.csv"
   ]
  },
  {
   "cell_type": "markdown",
   "metadata": {},
   "source": [
    "### Dataframe"
   ]
  },
  {
   "cell_type": "code",
   "execution_count": 2,
   "metadata": {},
   "outputs": [
    {
     "name": "stdout",
     "output_type": "stream",
     "text": [
      "<class 'pandas.core.frame.DataFrame'>\n",
      "RangeIndex: 100000 entries, 0 to 99999\n",
      "Data columns (total 5 columns):\n",
      " #   Column   Non-Null Count   Dtype  \n",
      "---  ------   --------------   -----  \n",
      " 0   id       100000 non-null  object \n",
      " 1   f0       100000 non-null  float64\n",
      " 2   f1       100000 non-null  float64\n",
      " 3   f2       100000 non-null  float64\n",
      " 4   product  100000 non-null  float64\n",
      "dtypes: float64(4), object(1)\n",
      "memory usage: 3.8+ MB\n"
     ]
    },
    {
     "data": {
      "text/html": [
       "<div>\n",
       "<style scoped>\n",
       "    .dataframe tbody tr th:only-of-type {\n",
       "        vertical-align: middle;\n",
       "    }\n",
       "\n",
       "    .dataframe tbody tr th {\n",
       "        vertical-align: top;\n",
       "    }\n",
       "\n",
       "    .dataframe thead th {\n",
       "        text-align: right;\n",
       "    }\n",
       "</style>\n",
       "<table border=\"1\" class=\"dataframe\">\n",
       "  <thead>\n",
       "    <tr style=\"text-align: right;\">\n",
       "      <th></th>\n",
       "      <th>id</th>\n",
       "      <th>f0</th>\n",
       "      <th>f1</th>\n",
       "      <th>f2</th>\n",
       "      <th>product</th>\n",
       "    </tr>\n",
       "  </thead>\n",
       "  <tbody>\n",
       "    <tr>\n",
       "      <th>0</th>\n",
       "      <td>txEyH</td>\n",
       "      <td>0.705745</td>\n",
       "      <td>-0.497823</td>\n",
       "      <td>1.221170</td>\n",
       "      <td>105.280062</td>\n",
       "    </tr>\n",
       "    <tr>\n",
       "      <th>1</th>\n",
       "      <td>2acmU</td>\n",
       "      <td>1.334711</td>\n",
       "      <td>-0.340164</td>\n",
       "      <td>4.365080</td>\n",
       "      <td>73.037750</td>\n",
       "    </tr>\n",
       "    <tr>\n",
       "      <th>2</th>\n",
       "      <td>409Wp</td>\n",
       "      <td>1.022732</td>\n",
       "      <td>0.151990</td>\n",
       "      <td>1.419926</td>\n",
       "      <td>85.265647</td>\n",
       "    </tr>\n",
       "  </tbody>\n",
       "</table>\n",
       "</div>"
      ],
      "text/plain": [
       "      id        f0        f1        f2     product\n",
       "0  txEyH  0.705745 -0.497823  1.221170  105.280062\n",
       "1  2acmU  1.334711 -0.340164  4.365080   73.037750\n",
       "2  409Wp  1.022732  0.151990  1.419926   85.265647"
      ]
     },
     "metadata": {},
     "output_type": "display_data"
    },
    {
     "name": "stdout",
     "output_type": "stream",
     "text": [
      "<class 'pandas.core.frame.DataFrame'>\n",
      "RangeIndex: 100000 entries, 0 to 99999\n",
      "Data columns (total 5 columns):\n",
      " #   Column   Non-Null Count   Dtype  \n",
      "---  ------   --------------   -----  \n",
      " 0   id       100000 non-null  object \n",
      " 1   f0       100000 non-null  float64\n",
      " 2   f1       100000 non-null  float64\n",
      " 3   f2       100000 non-null  float64\n",
      " 4   product  100000 non-null  float64\n",
      "dtypes: float64(4), object(1)\n",
      "memory usage: 3.8+ MB\n"
     ]
    },
    {
     "data": {
      "text/html": [
       "<div>\n",
       "<style scoped>\n",
       "    .dataframe tbody tr th:only-of-type {\n",
       "        vertical-align: middle;\n",
       "    }\n",
       "\n",
       "    .dataframe tbody tr th {\n",
       "        vertical-align: top;\n",
       "    }\n",
       "\n",
       "    .dataframe thead th {\n",
       "        text-align: right;\n",
       "    }\n",
       "</style>\n",
       "<table border=\"1\" class=\"dataframe\">\n",
       "  <thead>\n",
       "    <tr style=\"text-align: right;\">\n",
       "      <th></th>\n",
       "      <th>id</th>\n",
       "      <th>f0</th>\n",
       "      <th>f1</th>\n",
       "      <th>f2</th>\n",
       "      <th>product</th>\n",
       "    </tr>\n",
       "  </thead>\n",
       "  <tbody>\n",
       "    <tr>\n",
       "      <th>0</th>\n",
       "      <td>kBEdx</td>\n",
       "      <td>-15.001348</td>\n",
       "      <td>-8.276000</td>\n",
       "      <td>-0.005876</td>\n",
       "      <td>3.179103</td>\n",
       "    </tr>\n",
       "    <tr>\n",
       "      <th>1</th>\n",
       "      <td>62mP7</td>\n",
       "      <td>14.272088</td>\n",
       "      <td>-3.475083</td>\n",
       "      <td>0.999183</td>\n",
       "      <td>26.953261</td>\n",
       "    </tr>\n",
       "    <tr>\n",
       "      <th>2</th>\n",
       "      <td>vyE1P</td>\n",
       "      <td>6.263187</td>\n",
       "      <td>-5.948386</td>\n",
       "      <td>5.001160</td>\n",
       "      <td>134.766305</td>\n",
       "    </tr>\n",
       "  </tbody>\n",
       "</table>\n",
       "</div>"
      ],
      "text/plain": [
       "      id         f0        f1        f2     product\n",
       "0  kBEdx -15.001348 -8.276000 -0.005876    3.179103\n",
       "1  62mP7  14.272088 -3.475083  0.999183   26.953261\n",
       "2  vyE1P   6.263187 -5.948386  5.001160  134.766305"
      ]
     },
     "metadata": {},
     "output_type": "display_data"
    },
    {
     "name": "stdout",
     "output_type": "stream",
     "text": [
      "<class 'pandas.core.frame.DataFrame'>\n",
      "RangeIndex: 100000 entries, 0 to 99999\n",
      "Data columns (total 5 columns):\n",
      " #   Column   Non-Null Count   Dtype  \n",
      "---  ------   --------------   -----  \n",
      " 0   id       100000 non-null  object \n",
      " 1   f0       100000 non-null  float64\n",
      " 2   f1       100000 non-null  float64\n",
      " 3   f2       100000 non-null  float64\n",
      " 4   product  100000 non-null  float64\n",
      "dtypes: float64(4), object(1)\n",
      "memory usage: 3.8+ MB\n"
     ]
    },
    {
     "data": {
      "text/html": [
       "<div>\n",
       "<style scoped>\n",
       "    .dataframe tbody tr th:only-of-type {\n",
       "        vertical-align: middle;\n",
       "    }\n",
       "\n",
       "    .dataframe tbody tr th {\n",
       "        vertical-align: top;\n",
       "    }\n",
       "\n",
       "    .dataframe thead th {\n",
       "        text-align: right;\n",
       "    }\n",
       "</style>\n",
       "<table border=\"1\" class=\"dataframe\">\n",
       "  <thead>\n",
       "    <tr style=\"text-align: right;\">\n",
       "      <th></th>\n",
       "      <th>id</th>\n",
       "      <th>f0</th>\n",
       "      <th>f1</th>\n",
       "      <th>f2</th>\n",
       "      <th>product</th>\n",
       "    </tr>\n",
       "  </thead>\n",
       "  <tbody>\n",
       "    <tr>\n",
       "      <th>0</th>\n",
       "      <td>fwXo0</td>\n",
       "      <td>-1.146987</td>\n",
       "      <td>0.963328</td>\n",
       "      <td>-0.828965</td>\n",
       "      <td>27.758673</td>\n",
       "    </tr>\n",
       "    <tr>\n",
       "      <th>1</th>\n",
       "      <td>WJtFt</td>\n",
       "      <td>0.262778</td>\n",
       "      <td>0.269839</td>\n",
       "      <td>-2.530187</td>\n",
       "      <td>56.069697</td>\n",
       "    </tr>\n",
       "    <tr>\n",
       "      <th>2</th>\n",
       "      <td>ovLUW</td>\n",
       "      <td>0.194587</td>\n",
       "      <td>0.289035</td>\n",
       "      <td>-5.586433</td>\n",
       "      <td>62.871910</td>\n",
       "    </tr>\n",
       "  </tbody>\n",
       "</table>\n",
       "</div>"
      ],
      "text/plain": [
       "      id        f0        f1        f2    product\n",
       "0  fwXo0 -1.146987  0.963328 -0.828965  27.758673\n",
       "1  WJtFt  0.262778  0.269839 -2.530187  56.069697\n",
       "2  ovLUW  0.194587  0.289035 -5.586433  62.871910"
      ]
     },
     "metadata": {},
     "output_type": "display_data"
    }
   ],
   "source": [
    "# Read Dataframe\n",
    "df_reg1_raw = pd.read_csv('/datasets/geo_data_0.csv')\n",
    "df_reg2_raw = pd.read_csv('/datasets/geo_data_1.csv')\n",
    "df_reg3_raw = pd.read_csv('/datasets/geo_data_2.csv')\n",
    "\n",
    "# Quick look\n",
    "df_reg1_raw.info()\n",
    "display(df_reg1_raw.head(3))\n",
    "df_reg2_raw.info()\n",
    "display(df_reg2_raw.head(3))\n",
    "df_reg3_raw.info()\n",
    "display(df_reg3_raw.head(3))"
   ]
  },
  {
   "cell_type": "markdown",
   "metadata": {},
   "source": [
    "### Check for Duplicates, Clear Irrelevant Features\n",
    "\n",
    "The data all looks clean and of the correct type. We will assume based on the above samples that the scales of the f0, f1, and f2 features are equivalent and do not merit re-scaling.\n",
    "\n",
    "We will quickly check for duplicate rows both within each dataframe and between them before we remove the ids and move on to analysis:"
   ]
  },
  {
   "cell_type": "code",
   "execution_count": 3,
   "metadata": {
    "scrolled": true
   },
   "outputs": [
    {
     "name": "stdout",
     "output_type": "stream",
     "text": [
      "Duplicate entries in entire dataset :\n"
     ]
    },
    {
     "data": {
      "text/html": [
       "<div>\n",
       "<style scoped>\n",
       "    .dataframe tbody tr th:only-of-type {\n",
       "        vertical-align: middle;\n",
       "    }\n",
       "\n",
       "    .dataframe tbody tr th {\n",
       "        vertical-align: top;\n",
       "    }\n",
       "\n",
       "    .dataframe thead th {\n",
       "        text-align: right;\n",
       "    }\n",
       "</style>\n",
       "<table border=\"1\" class=\"dataframe\">\n",
       "  <thead>\n",
       "    <tr style=\"text-align: right;\">\n",
       "      <th></th>\n",
       "      <th>id</th>\n",
       "      <th>f0</th>\n",
       "      <th>f1</th>\n",
       "      <th>f2</th>\n",
       "      <th>product</th>\n",
       "    </tr>\n",
       "  </thead>\n",
       "  <tbody>\n",
       "  </tbody>\n",
       "</table>\n",
       "</div>"
      ],
      "text/plain": [
       "Empty DataFrame\n",
       "Columns: [id, f0, f1, f2, product]\n",
       "Index: []"
      ]
     },
     "metadata": {},
     "output_type": "display_data"
    }
   ],
   "source": [
    "# Check for duplicates, combining all three dataframes\n",
    "all_df = pd.concat([df_reg1_raw, df_reg2_raw, df_reg3_raw])\n",
    "print('Duplicate entries in entire dataset :') \n",
    "display(all_df[all_df.duplicated()])"
   ]
  },
  {
   "cell_type": "markdown",
   "metadata": {},
   "source": [
    "There appear to be no duplicate rows in the entire dataset combining all three regions."
   ]
  },
  {
   "cell_type": "code",
   "execution_count": 4,
   "metadata": {},
   "outputs": [],
   "source": [
    "# We can remove the 'id' feature from each, as it is merely an identifier and should not be used to train the model.\n",
    "df_reg1 = df_reg1_raw.drop('id', axis=1)\n",
    "df_reg2 = df_reg2_raw.drop('id', axis=1)\n",
    "df_reg3 = df_reg3_raw.drop('id', axis=1)"
   ]
  },
  {
   "cell_type": "markdown",
   "metadata": {},
   "source": [
    "<div class=\"alert alert-success\">\n",
    "<b>Reviewer's comment</b>\n",
    "\n",
    "The data was loaded and prepared\n",
    "\n",
    "</div>"
   ]
  },
  {
   "cell_type": "markdown",
   "metadata": {},
   "source": [
    "## Training a Linear Regression Model for Each Region\n",
    "\n",
    "### Split Dataframes Into a Training Set and a Validation Set"
   ]
  },
  {
   "cell_type": "code",
   "execution_count": 5,
   "metadata": {},
   "outputs": [],
   "source": [
    "# Separate dataframes into features and targets and randomize using train_test_split at ratio of 75:25\n",
    "# Currently do not need test set separate from the validation set as we are not tuning hyperparameters\n",
    "features_reg1 = df_reg1.drop(['product'], axis=1)\n",
    "target_reg1 = df_reg1['product']\n",
    "features_train_reg1, features_valid_reg1, target_train_reg1, target_valid_reg1 = train_test_split(\n",
    "    features_reg1, target_reg1, test_size=0.25, random_state=12345)\n",
    "\n",
    "features_reg2 = df_reg2.drop(['product'], axis=1)\n",
    "target_reg2 = df_reg2['product']\n",
    "features_train_reg2, features_valid_reg2, target_train_reg2, target_valid_reg2 = train_test_split(\n",
    "    features_reg2, target_reg2, test_size=0.25, random_state=12345)\n",
    "\n",
    "features_reg3 = df_reg3.drop(['product'], axis=1)\n",
    "target_reg3 = df_reg3['product']\n",
    "features_train_reg3, features_valid_reg3, target_train_reg3, target_valid_reg3 = train_test_split(\n",
    "    features_reg3, target_reg3, test_size=0.25, random_state=12345)"
   ]
  },
  {
   "cell_type": "markdown",
   "metadata": {},
   "source": [
    "<div class=\"alert alert-success\">\n",
    "<b>Reviewer's comment</b>\n",
    "\n",
    "The data for each region was split into train and validation\n",
    "\n",
    "</div>"
   ]
  },
  {
   "cell_type": "markdown",
   "metadata": {},
   "source": [
    "### Build Model for Each Region\n",
    "\n",
    "Below we have no hyperparameters to tune as we are utilizing linear regression, so we do not need to iterate over hyperparameters to minimize RMSE. We can quickly train and store RMSE values for each region's model."
   ]
  },
  {
   "cell_type": "code",
   "execution_count": 6,
   "metadata": {},
   "outputs": [],
   "source": [
    "# Linear regression model for each region \n",
    "model1 = LinearRegression()\n",
    "model1.fit(features_train_reg1, target_train_reg1) # train model on training set\n",
    "predictions_reg1 = model1.predict(features_valid_reg1) # get model predictions on validation set\n",
    "\n",
    "model2 = LinearRegression()\n",
    "model2.fit(features_train_reg2, target_train_reg2) # train model on training set\n",
    "predictions_reg2 = model2.predict(features_valid_reg2) # get model predictions on validation set\n",
    "\n",
    "model3 = LinearRegression()\n",
    "model3.fit(features_train_reg3, target_train_reg3) # train model on training set\n",
    "predictions_reg3 = model3.predict(features_valid_reg3) # get model predictions on validation set"
   ]
  },
  {
   "cell_type": "markdown",
   "metadata": {},
   "source": [
    "### Calculate Average Oil Volume Predictions and RMSE for Each Region's Model"
   ]
  },
  {
   "cell_type": "code",
   "execution_count": 7,
   "metadata": {
    "scrolled": true
   },
   "outputs": [
    {
     "data": {
      "text/html": [
       "<div>\n",
       "<style scoped>\n",
       "    .dataframe tbody tr th:only-of-type {\n",
       "        vertical-align: middle;\n",
       "    }\n",
       "\n",
       "    .dataframe tbody tr th {\n",
       "        vertical-align: top;\n",
       "    }\n",
       "\n",
       "    .dataframe thead th {\n",
       "        text-align: right;\n",
       "    }\n",
       "</style>\n",
       "<table border=\"1\" class=\"dataframe\">\n",
       "  <thead>\n",
       "    <tr style=\"text-align: right;\">\n",
       "      <th></th>\n",
       "      <th>region</th>\n",
       "      <th>predict_mean</th>\n",
       "      <th>target_mean</th>\n",
       "      <th>rmse</th>\n",
       "    </tr>\n",
       "  </thead>\n",
       "  <tbody>\n",
       "    <tr>\n",
       "      <th>0</th>\n",
       "      <td>1</td>\n",
       "      <td>92.592568</td>\n",
       "      <td>92.078597</td>\n",
       "      <td>37.579422</td>\n",
       "    </tr>\n",
       "    <tr>\n",
       "      <th>1</th>\n",
       "      <td>2</td>\n",
       "      <td>68.728547</td>\n",
       "      <td>68.723136</td>\n",
       "      <td>0.893099</td>\n",
       "    </tr>\n",
       "    <tr>\n",
       "      <th>2</th>\n",
       "      <td>3</td>\n",
       "      <td>94.965046</td>\n",
       "      <td>94.884233</td>\n",
       "      <td>40.029709</td>\n",
       "    </tr>\n",
       "  </tbody>\n",
       "</table>\n",
       "</div>"
      ],
      "text/plain": [
       "   region  predict_mean  target_mean       rmse\n",
       "0       1     92.592568    92.078597  37.579422\n",
       "1       2     68.728547    68.723136   0.893099\n",
       "2       3     94.965046    94.884233  40.029709"
      ]
     },
     "metadata": {},
     "output_type": "display_data"
    }
   ],
   "source": [
    "# RMSE (Root Mean Square Error) for each region's model predictions\n",
    "rmse_reg1 = mean_squared_error(target_valid_reg1, predictions_reg1)**(1/2)\n",
    "rmse_reg2 = mean_squared_error(target_valid_reg2, predictions_reg2)**(1/2)\n",
    "rmse_reg3 = mean_squared_error(target_valid_reg3, predictions_reg3)**(1/2)\n",
    "\n",
    "# For ease of plotting, combine into dataframe\n",
    "cols = ['region', 'predict_mean', 'target_mean', 'rmse']\n",
    "data = [\n",
    "    [1, predictions_reg1.mean(), target_valid_reg1.mean(), rmse_reg1],\n",
    "    [2, predictions_reg2.mean(), target_valid_reg2.mean(), rmse_reg2],\n",
    "    [3, predictions_reg3.mean(), target_valid_reg3.mean(), rmse_reg3]\n",
    "]\n",
    "model_stats = pd.DataFrame(data, columns=cols)\n",
    "\n",
    "display(model_stats)"
   ]
  },
  {
   "cell_type": "markdown",
   "metadata": {},
   "source": [
    "<div class=\"alert alert-success\">\n",
    "<b>Reviewer's comment</b>\n",
    "\n",
    "The models were trained and evaluated correctly\n",
    "\n",
    "</div>"
   ]
  },
  {
   "cell_type": "markdown",
   "metadata": {},
   "source": [
    "### Graph Average Oil Volume Predictions and RMSE for each Region"
   ]
  },
  {
   "cell_type": "code",
   "execution_count": 8,
   "metadata": {},
   "outputs": [
    {
     "data": {
      "image/png": "[encoded data removed]",
      "text/plain": [
       "<Figure size 1600x800 with 2 Axes>"
      ]
     },
     "metadata": {},
     "output_type": "display_data"
    }
   ],
   "source": [
    "# Create bar plots comparing regional oil volume predictions and actual oil volume in validation set\n",
    "fig, axs = plt.subplots(1, 2, figsize=(16,8))\n",
    "axs[0].clear()\n",
    "model_stats[['predict_mean', 'target_mean']].plot(\n",
    "    kind='bar', \n",
    "    ax=axs[0]\n",
    ")\n",
    "axs[0].set_ylabel('Average Oil Volume (1000s of barrels)')\n",
    "axs[0].set_xticklabels(labels=['Region 1', 'Region 2', 'Region 3'])\n",
    "axs[0].set_title('Oil Volume Means By Region')\n",
    "axs[0].legend(['Model Prediction Mean', 'Actual Mean'])\n",
    "axs[0].tick_params(axis='x', rotation=0)\n",
    "\n",
    "axs[1].clear()\n",
    "model_stats[['rmse']].plot(\n",
    "    kind='bar', \n",
    "    ax=axs[1]\n",
    ")\n",
    "axs[1].set_ylabel('Oil Volume RMSE (1000s of Barrels)')\n",
    "axs[1].set_xticklabels(labels=['Region 1', 'Region 2', 'Region 3'])\n",
    "axs[1].set_title('Root Mean Square Error of Oil Volume Predictions')\n",
    "axs[1].get_legend().remove()\n",
    "axs[1].tick_params(axis='x', rotation=0)\n",
    "plt.show()"
   ]
  },
  {
   "cell_type": "markdown",
   "metadata": {},
   "source": [
    "The preliminary performance of the models is very high when considering the predicted mean of each region's oil reserves. However, there is a worryingly large RMSE in Regions 1 and 3. This may mean that oil volumes for individual drilling points are far less predictabile in these regions despite the regional averages being predictable."
   ]
  },
  {
   "cell_type": "markdown",
   "metadata": {},
   "source": [
    "<div class=\"alert alert-success\">\n",
    "<b>Reviewer's comment</b>\n",
    "\n",
    "Right!\n",
    "\n",
    "</div>"
   ]
  },
  {
   "cell_type": "markdown",
   "metadata": {},
   "source": [
    "## Profit Calculation\n",
    "\n",
    "We are tasked with determining profitability of drilling in these regions if we were to rely on model predictions for new drilling locations. For our purposes, we are drilling 200 points in a given region, which is estimated to cost 100 million USD. In order to be profitable, the average drilling point should therefore net about 500,000 USD. A unit of reserve (1000 barrels of oil) brings 4,500 USD.\n",
    "\n",
    "We can represent all of this below:"
   ]
  },
  {
   "cell_type": "code",
   "execution_count": 9,
   "metadata": {
    "scrolled": true
   },
   "outputs": [
    {
     "name": "stdout",
     "output_type": "stream",
     "text": [
      "In order to be on average profitable, a drilling point needs an oil reserve with 111.1111 units of oil.\n"
     ]
    }
   ],
   "source": [
    "# List all above items used for profitability calculation in variables\n",
    "survey_locats = 500\n",
    "drill_locats = 200\n",
    "cost = 100000000\n",
    "unit_price_oil = 4500\n",
    "profit_well_usd = cost / drill_locats\n",
    "reserve_size_profit_well = profit_well_usd / unit_price_oil\n",
    "\n",
    "print(\"In order to be on average profitable, a drilling point needs an oil reserve with {:.4f} units of oil.\".format(reserve_size_profit_well))"
   ]
  },
  {
   "cell_type": "markdown",
   "metadata": {},
   "source": [
    "The average drilling point should have approximately 111.1111 units of oil, or 111,111 barrels, in reserve. Since the average drilling point across all three regions is about 83 units of oil, all a model has to do is consistently find productive drilling points about 30 units of oil greater than random chance. While regions 1 and 3 have higher average reserves, it is far easier to predict values for region 2 using linear regression given how low the RMSE is for region 2. \n",
    "\n",
    "We have to perform some risk analysis to determine if the model can perform well enough to go for the less-predictable but richer-yield regions. It could very well be the case that the model only needs to predict a few drilling points that perform extremely well, and the rest may be below the threshold 111.1111 units of oil. However, the model would need to be able to find those stronger drilling points consistently and often enough to prohibit the risk of loss.\n",
    "\n",
    "<div class=\"alert alert-success\">\n",
    "<b>Reviewer's comment</b>\n",
    "\n",
    "Calculation is correct, cocnlusion makes sense\n",
    "\n",
    "</div>\n",
    "\n",
    "\n",
    "## Profit Calculations\n",
    "\n",
    "### Function for Profit"
   ]
  },
  {
   "cell_type": "code",
   "execution_count": 10,
   "metadata": {},
   "outputs": [],
   "source": [
    "'''\n",
    "Inputs:\n",
    "    'wells': Series, sliced to indicate a subsection of a region's oil reserves, which is the target for the model.\n",
    "            There must be n rows, which corresponds with the size of the next parameter:\n",
    "    'predictions': Series with n scalars containing predicted oil reserves the regression model expects for the above wells.\n",
    "Outputs:\n",
    "    Returns a scalar reflecting the total profit of selling all oil contained in those 200 wells which the model predicts will\n",
    "        contain the most oil, which is the gross profit after the cost of drilling 200 wells.\n",
    "''' \n",
    "def survey_profitability(wells, predictions):\n",
    "    preds_sorted = predictions.sort_values(ascending=False)\n",
    "    selected = wells[preds_sorted.index][:drill_locats]\n",
    "    return (unit_price_oil * selected.sum()) - cost"
   ]
  },
  {
   "cell_type": "markdown",
   "metadata": {},
   "source": [
    "<div class=\"alert alert-success\">\n",
    "<b>Reviewer's comment</b>\n",
    "\n",
    "Profit is calculated correctly\n",
    "\n",
    "</div>"
   ]
  },
  {
   "cell_type": "markdown",
   "metadata": {},
   "source": [
    "### First Look at Profitability: Let Model Predict Best 200 Wells of Each Region from Validation Set"
   ]
  },
  {
   "cell_type": "code",
   "execution_count": 11,
   "metadata": {
    "scrolled": true
   },
   "outputs": [
    {
     "name": "stdout",
     "output_type": "stream",
     "text": [
      "\n",
      "Max Gross Profit of Region 1 Based on Model Predictions: 33208260.43 USD.\n",
      "Max Gross Profit of Region 2 Based on Model Predictions: 24150866.97 USD.\n",
      "Max Gross Profit of Region 3 Based on Model Predictions: 27103499.64 USD.\n",
      "\n"
     ]
    }
   ],
   "source": [
    "# Pass Series of regional oil reserves target (validation set) and model predictions (validation set) for each region\n",
    "predict_reg1 = pd.Series(predictions_reg1)\n",
    "target_reg1 = target_valid_reg1.reset_index(drop=True)\n",
    "top200_profit_reg1 = survey_profitability(target_reg1, predict_reg1)\n",
    "\n",
    "predict_reg2 = pd.Series(predictions_reg2)\n",
    "target_reg2 = target_valid_reg2.reset_index(drop=True)\n",
    "top200_profit_reg2 = survey_profitability(target_reg2, predict_reg2)\n",
    "\n",
    "predict_reg3 = pd.Series(predictions_reg3)\n",
    "target_reg3 = target_valid_reg3.reset_index(drop=True)\n",
    "top200_profit_reg3 = survey_profitability(target_reg3, predict_reg3)\n",
    "\n",
    "print('')\n",
    "print('Max Gross Profit of Region 1 Based on Model Predictions: {:.2f} USD.'.format(top200_profit_reg1))\n",
    "print('Max Gross Profit of Region 2 Based on Model Predictions: {:.2f} USD.'.format(top200_profit_reg2))\n",
    "print('Max Gross Profit of Region 3 Based on Model Predictions: {:.2f} USD.'.format(top200_profit_reg3))\n",
    "print('')"
   ]
  },
  {
   "cell_type": "markdown",
   "metadata": {},
   "source": [
    "Because the max profitability of each region is within an order of magnitude, and because it is surprisingly easy to turn a profit in any of the three regions, the deciding factor will be the reliability of the model in accurately predicting a region's oil reserves, and *not* the average reserves of each region. In that respect, region 2 is the current front-runner for investment, as the model has the lowest RMSE and thus should be expected to perform the best when evaluating new prospective drilling points."
   ]
  },
  {
   "cell_type": "markdown",
   "metadata": {},
   "source": [
    "<div class=\"alert alert-warning\">\n",
    "<b>Reviewer's comment</b>\n",
    "\n",
    "> and because it is surprisingly easy to turn a profit in any of the three regions\n",
    "    \n",
    "Not sure what this claim is based on: at this point you only calculated profit from overall top 200 wells in each region (and we have the budget for initial measurements that would allow us to use our models for predictions at 500 randomly selected locations, so the overall top 200 wells are highly unlkely to be among them)\n",
    "\n",
    "</div>"
   ]
  },
  {
   "cell_type": "markdown",
   "metadata": {},
   "source": [
    "## Risks and Profitability \n",
    "\n",
    "### Find 95% Confidence Interval by Bootstrapping 1000 Hypothetical Surveys on Validation Set"
   ]
  },
  {
   "cell_type": "code",
   "execution_count": 14,
   "metadata": {
    "scrolled": true
   },
   "outputs": [
    {
     "data": {
      "text/html": [
       "<div>\n",
       "<style scoped>\n",
       "    .dataframe tbody tr th:only-of-type {\n",
       "        vertical-align: middle;\n",
       "    }\n",
       "\n",
       "    .dataframe tbody tr th {\n",
       "        vertical-align: top;\n",
       "    }\n",
       "\n",
       "    .dataframe thead th {\n",
       "        text-align: right;\n",
       "    }\n",
       "</style>\n",
       "<table border=\"1\" class=\"dataframe\">\n",
       "  <thead>\n",
       "    <tr style=\"text-align: right;\">\n",
       "      <th></th>\n",
       "      <th>region</th>\n",
       "      <th>mean_profit</th>\n",
       "      <th>lower_quantile_profit</th>\n",
       "      <th>upper_quantile_profit</th>\n",
       "      <th>risk_of_loss</th>\n",
       "      <th>risk_of_loss_perc</th>\n",
       "    </tr>\n",
       "  </thead>\n",
       "  <tbody>\n",
       "    <tr>\n",
       "      <th>0</th>\n",
       "      <td>1</td>\n",
       "      <td>4.147363e+06</td>\n",
       "      <td>-1.235281e+06</td>\n",
       "      <td>9.685629e+06</td>\n",
       "      <td>0.070</td>\n",
       "      <td>7.0</td>\n",
       "    </tr>\n",
       "    <tr>\n",
       "      <th>1</th>\n",
       "      <td>2</td>\n",
       "      <td>5.131722e+06</td>\n",
       "      <td>8.532975e+05</td>\n",
       "      <td>9.401063e+06</td>\n",
       "      <td>0.009</td>\n",
       "      <td>0.9</td>\n",
       "    </tr>\n",
       "    <tr>\n",
       "      <th>2</th>\n",
       "      <td>3</td>\n",
       "      <td>4.101984e+06</td>\n",
       "      <td>-1.404237e+06</td>\n",
       "      <td>9.677162e+06</td>\n",
       "      <td>0.085</td>\n",
       "      <td>8.5</td>\n",
       "    </tr>\n",
       "  </tbody>\n",
       "</table>\n",
       "</div>"
      ],
      "text/plain": [
       "   region   mean_profit  lower_quantile_profit  upper_quantile_profit  \\\n",
       "0       1  4.147363e+06          -1.235281e+06           9.685629e+06   \n",
       "1       2  5.131722e+06           8.532975e+05           9.401063e+06   \n",
       "2       3  4.101984e+06          -1.404237e+06           9.677162e+06   \n",
       "\n",
       "   risk_of_loss  risk_of_loss_perc  \n",
       "0         0.070                7.0  \n",
       "1         0.009                0.9  \n",
       "2         0.085                8.5  "
      ]
     },
     "metadata": {},
     "output_type": "display_data"
    }
   ],
   "source": [
    "# Create holders for profit values of each hypothetical survey\n",
    "values_reg1 = []\n",
    "values_reg2 = []\n",
    "values_reg3 = []\n",
    "\n",
    "# Simulate 1000 hypothetical surveys using validation set and run survey_profitability function for each\n",
    "state = np.random.RandomState(12345)\n",
    "for i in range(1000):\n",
    "    target_subsample = target_reg1.sample(n=survey_locats, replace=True, random_state=state)\n",
    "    predict_subsample = predict_reg1[target_subsample.index]\n",
    "    values_reg1.append(survey_profitability(target_subsample, predict_subsample))\n",
    "   \n",
    "    target_subsample = target_reg2.sample(n=survey_locats, replace=True, random_state=state)\n",
    "    predict_subsample = predict_reg2[target_subsample.index]\n",
    "    values_reg2.append(survey_profitability(target_subsample, predict_subsample))\n",
    "    \n",
    "    target_subsample = target_reg3.sample(n=survey_locats, replace=True, random_state=state)\n",
    "    predict_subsample = predict_reg3[target_subsample.index]\n",
    "    values_reg3.append(survey_profitability(target_subsample, predict_subsample))\n",
    "\n",
    "values_reg1 = pd.Series(values_reg1)\n",
    "values_reg2 = pd.Series(values_reg2)\n",
    "values_reg3 = pd.Series(values_reg3)\n",
    "\n",
    "# Risk of loss as ratio of negative profit to total values\n",
    "rol_reg1 = values_reg1[values_reg1 < 0].count()/1000\n",
    "rol_reg2 = values_reg2[values_reg2 < 0].count()/1000\n",
    "rol_reg3 = values_reg3[values_reg3 < 0].count()/1000\n",
    "\n",
    "# 95% Confidence Interval represents the middle region of data where 2.5% of the data is above and 2.5% of the data is below\n",
    "cols = ['region', 'mean_profit', 'lower_quantile_profit', 'upper_quantile_profit', 'risk_of_loss', 'risk_of_loss_perc']\n",
    "data = [\n",
    "    [1, values_reg1.mean(), values_reg1.quantile(0.025), values_reg1.quantile(0.975), rol_reg1, rol_reg1*100], \n",
    "    [2, values_reg2.mean(), values_reg2.quantile(0.025), values_reg2.quantile(0.975), rol_reg2, rol_reg2*100],\n",
    "    [3, values_reg3.mean(), values_reg3.quantile(0.025), values_reg3.quantile(0.975), rol_reg3, rol_reg3*100]\n",
    "]\n",
    "\n",
    "boot_survey_results = pd.DataFrame(data, columns=cols)\n",
    "display(boot_survey_results)"
   ]
  },
  {
   "cell_type": "markdown",
   "metadata": {},
   "source": [
    "<div class=\"alert alert-success\">\n",
    "<b>Reviewer's comment</b>\n",
    "\n",
    "Bootstrapping is done correctly, all needed statistics are calculated.\n",
    "\n",
    "</div>"
   ]
  },
  {
   "cell_type": "markdown",
   "metadata": {},
   "source": [
    "### Ideal Region for Investment\n",
    "\n",
    "Only one region has a risk of loss below 2.5%, and that is region 2. In region 2, 99.1% of 500 hypothetical surveyed drill site groupings could be filtered down to 200 profitable oil rigs. In the other two regions, there are enough profitable oil reserve sites -- more, even, than in region 2 -- but the model cannot represent the surface data in such a way as to consistently predict their reserves with minimal error. The business should invest in region 2.\n",
    "\n",
    "# Conclusion\n",
    "\n",
    "The above linear regression models could be trained to significantly increase the business' ability to decide which of three regions to drill for oil. While regions 1 and 3 held marginally more oil reserves on average, region 2 was far more predictable and the error rate of the model was an order of magnitude lower. This resulted in region 2 being the best candidate for drilling, with a risk of loss of ony 0.9%."
   ]
  },
  {
   "cell_type": "markdown",
   "metadata": {},
   "source": [
    "<div class=\"alert alert-success\">\n",
    "<b>Reviewer's comment</b>\n",
    "\n",
    "Region choice is correct and justified. Well done!\n",
    "\n",
    "</div>"
   ]
  }
 ],
 "metadata": {
  "ExecuteTimeLog": [
   {
    "duration": 309,
    "start_time": "2024-05-21T01:30:45.134Z"
   },
   {
    "duration": 5119,
    "start_time": "2024-05-21T01:30:49.234Z"
   },
   {
    "duration": 571,
    "start_time": "2024-05-21T01:30:54.357Z"
   },
   {
    "duration": 433,
    "start_time": "2024-05-21T01:39:51.774Z"
   },
   {
    "duration": 69,
    "start_time": "2024-05-21T01:50:50.355Z"
   },
   {
    "duration": 65,
    "start_time": "2024-05-21T01:53:04.436Z"
   },
   {
    "duration": 241,
    "start_time": "2024-05-21T01:53:39.613Z"
   },
   {
    "duration": 328,
    "start_time": "2024-05-21T22:52:51.126Z"
   },
   {
    "duration": 5260,
    "start_time": "2024-05-21T22:53:01.740Z"
   },
   {
    "duration": 624,
    "start_time": "2024-05-21T22:53:07.004Z"
   },
   {
    "duration": 320,
    "start_time": "2024-05-21T22:53:07.632Z"
   },
   {
    "duration": 13,
    "start_time": "2024-05-21T23:01:21.102Z"
   },
   {
    "duration": 57,
    "start_time": "2024-05-21T23:16:59.805Z"
   },
   {
    "duration": 5,
    "start_time": "2024-05-22T00:08:43.455Z"
   },
   {
    "duration": 499,
    "start_time": "2024-05-22T00:08:43.468Z"
   },
   {
    "duration": 299,
    "start_time": "2024-05-22T00:08:43.972Z"
   },
   {
    "duration": 13,
    "start_time": "2024-05-22T00:08:44.275Z"
   },
   {
    "duration": 86,
    "start_time": "2024-05-22T00:08:44.294Z"
   },
   {
    "duration": 435,
    "start_time": "2024-05-22T00:08:44.384Z"
   },
   {
    "duration": 0,
    "start_time": "2024-05-22T00:08:44.827Z"
   },
   {
    "duration": 0,
    "start_time": "2024-05-22T00:08:44.830Z"
   },
   {
    "duration": 1580,
    "start_time": "2024-05-22T00:09:25.998Z"
   },
   {
    "duration": 521,
    "start_time": "2024-05-22T00:09:27.582Z"
   },
   {
    "duration": 309,
    "start_time": "2024-05-22T00:09:28.128Z"
   },
   {
    "duration": 21,
    "start_time": "2024-05-22T00:09:28.441Z"
   },
   {
    "duration": 85,
    "start_time": "2024-05-22T00:09:28.467Z"
   },
   {
    "duration": 25,
    "start_time": "2024-05-22T00:09:28.555Z"
   },
   {
    "duration": 660,
    "start_time": "2024-05-22T00:09:28.584Z"
   },
   {
    "duration": 0,
    "start_time": "2024-05-22T00:09:29.247Z"
   },
   {
    "duration": 520,
    "start_time": "2024-05-22T00:14:18.684Z"
   },
   {
    "duration": 124,
    "start_time": "2024-05-22T00:19:37.598Z"
   },
   {
    "duration": 121,
    "start_time": "2024-05-22T00:21:24.863Z"
   },
   {
    "duration": 119,
    "start_time": "2024-05-22T00:23:19.610Z"
   },
   {
    "duration": 43,
    "start_time": "2024-05-22T00:30:14.070Z"
   },
   {
    "duration": 36,
    "start_time": "2024-05-22T00:32:23.019Z"
   },
   {
    "duration": 201,
    "start_time": "2024-05-22T00:32:26.254Z"
   },
   {
    "duration": 32,
    "start_time": "2024-05-22T00:33:19.828Z"
   },
   {
    "duration": 1012,
    "start_time": "2024-05-22T00:33:24.855Z"
   },
   {
    "duration": 31,
    "start_time": "2024-05-22T00:34:25.739Z"
   },
   {
    "duration": 690,
    "start_time": "2024-05-22T00:34:30.859Z"
   },
   {
    "duration": 649,
    "start_time": "2024-05-22T00:35:17.623Z"
   },
   {
    "duration": 28,
    "start_time": "2024-05-22T00:36:04.475Z"
   },
   {
    "duration": 642,
    "start_time": "2024-05-22T00:36:07.349Z"
   },
   {
    "duration": 51,
    "start_time": "2024-05-22T00:37:12.154Z"
   },
   {
    "duration": 31,
    "start_time": "2024-05-22T00:38:06.150Z"
   },
   {
    "duration": 649,
    "start_time": "2024-05-22T00:38:08.635Z"
   },
   {
    "duration": 130,
    "start_time": "2024-05-22T00:43:55.975Z"
   },
   {
    "duration": 646,
    "start_time": "2024-05-22T00:43:59.074Z"
   },
   {
    "duration": 43,
    "start_time": "2024-05-22T00:45:26.179Z"
   },
   {
    "duration": 40,
    "start_time": "2024-05-22T00:45:31.487Z"
   },
   {
    "duration": 32,
    "start_time": "2024-05-22T00:45:32.648Z"
   },
   {
    "duration": 42,
    "start_time": "2024-05-22T00:45:38.314Z"
   },
   {
    "duration": 34,
    "start_time": "2024-05-22T00:45:43.029Z"
   },
   {
    "duration": 683,
    "start_time": "2024-05-22T00:45:49.123Z"
   },
   {
    "duration": 48,
    "start_time": "2024-05-22T00:48:16.580Z"
   },
   {
    "duration": 41,
    "start_time": "2024-05-22T00:50:10.464Z"
   },
   {
    "duration": 22,
    "start_time": "2024-05-22T00:50:56.624Z"
   },
   {
    "duration": 1500,
    "start_time": "2024-05-22T00:52:45.526Z"
   },
   {
    "duration": 472,
    "start_time": "2024-05-22T00:52:47.029Z"
   },
   {
    "duration": 315,
    "start_time": "2024-05-22T00:52:47.505Z"
   },
   {
    "duration": 16,
    "start_time": "2024-05-22T00:52:47.827Z"
   },
   {
    "duration": 81,
    "start_time": "2024-05-22T00:52:47.846Z"
   },
   {
    "duration": 102,
    "start_time": "2024-05-22T00:52:47.931Z"
   },
   {
    "duration": 103,
    "start_time": "2024-05-22T00:52:48.035Z"
   },
   {
    "duration": 1829,
    "start_time": "2024-05-22T00:52:48.142Z"
   },
   {
    "duration": 626,
    "start_time": "2024-05-22T01:01:58.115Z"
   },
   {
    "duration": 532,
    "start_time": "2024-05-22T01:02:07.431Z"
   },
   {
    "duration": 540,
    "start_time": "2024-05-22T01:02:18.567Z"
   },
   {
    "duration": 502,
    "start_time": "2024-05-22T01:09:10.366Z"
   },
   {
    "duration": 486,
    "start_time": "2024-05-22T01:47:06.140Z"
   },
   {
    "duration": 972,
    "start_time": "2024-05-22T01:48:01.740Z"
   },
   {
    "duration": 520,
    "start_time": "2024-05-22T01:50:37.154Z"
   },
   {
    "duration": 540,
    "start_time": "2024-05-22T01:52:56.390Z"
   },
   {
    "duration": 557,
    "start_time": "2024-05-22T01:53:42.108Z"
   },
   {
    "duration": 519,
    "start_time": "2024-05-22T01:53:54.694Z"
   },
   {
    "duration": 551,
    "start_time": "2024-05-22T01:54:43.800Z"
   },
   {
    "duration": 528,
    "start_time": "2024-05-22T01:54:52.893Z"
   },
   {
    "duration": 527,
    "start_time": "2024-05-22T01:55:29.501Z"
   },
   {
    "duration": 5,
    "start_time": "2024-05-22T02:28:06.887Z"
   },
   {
    "duration": 6,
    "start_time": "2024-05-22T02:28:16.109Z"
   },
   {
    "duration": 1507,
    "start_time": "2024-05-22T02:30:08.306Z"
   },
   {
    "duration": 511,
    "start_time": "2024-05-22T02:30:09.816Z"
   },
   {
    "duration": 311,
    "start_time": "2024-05-22T02:30:10.331Z"
   },
   {
    "duration": 11,
    "start_time": "2024-05-22T02:30:10.647Z"
   },
   {
    "duration": 79,
    "start_time": "2024-05-22T02:30:10.661Z"
   },
   {
    "duration": 86,
    "start_time": "2024-05-22T02:30:10.744Z"
   },
   {
    "duration": 101,
    "start_time": "2024-05-22T02:30:10.833Z"
   },
   {
    "duration": 716,
    "start_time": "2024-05-22T02:30:10.942Z"
   },
   {
    "duration": 6,
    "start_time": "2024-05-22T02:30:11.661Z"
   },
   {
    "duration": 5,
    "start_time": "2024-05-22T03:03:14.555Z"
   },
   {
    "duration": 933,
    "start_time": "2024-05-22T03:10:24.484Z"
   },
   {
    "duration": 34,
    "start_time": "2024-05-22T03:11:51.953Z"
   },
   {
    "duration": 606,
    "start_time": "2024-05-22T03:12:21.189Z"
   },
   {
    "duration": 20,
    "start_time": "2024-05-22T03:12:40.939Z"
   },
   {
    "duration": 52,
    "start_time": "2024-05-22T03:16:15.220Z"
   },
   {
    "duration": 52,
    "start_time": "2024-05-22T03:16:42.221Z"
   },
   {
    "duration": 25,
    "start_time": "2024-05-22T03:17:06.550Z"
   },
   {
    "duration": 5174,
    "start_time": "2024-05-22T05:19:01.048Z"
   },
   {
    "duration": 558,
    "start_time": "2024-05-22T05:19:06.225Z"
   },
   {
    "duration": 260,
    "start_time": "2024-05-22T05:19:06.785Z"
   },
   {
    "duration": 10,
    "start_time": "2024-05-22T05:19:07.050Z"
   },
   {
    "duration": 76,
    "start_time": "2024-05-22T05:19:07.064Z"
   },
   {
    "duration": 98,
    "start_time": "2024-05-22T05:19:07.143Z"
   },
   {
    "duration": 97,
    "start_time": "2024-05-22T05:19:07.244Z"
   },
   {
    "duration": 598,
    "start_time": "2024-05-22T05:19:07.344Z"
   },
   {
    "duration": 6,
    "start_time": "2024-05-22T05:19:07.945Z"
   },
   {
    "duration": 4,
    "start_time": "2024-05-22T05:19:07.957Z"
   },
   {
    "duration": 26,
    "start_time": "2024-05-22T05:19:07.964Z"
   },
   {
    "duration": 5014,
    "start_time": "2024-05-22T05:19:07.993Z"
   },
   {
    "duration": 5813,
    "start_time": "2024-05-22T05:37:37.166Z"
   },
   {
    "duration": 5029,
    "start_time": "2024-05-22T05:41:28.579Z"
   },
   {
    "duration": 2506,
    "start_time": "2024-10-31T03:17:10.946Z"
   }
  ],
  "kernelspec": {
   "display_name": "Python 3 (ipykernel)",
   "language": "python",
   "name": "python3"
  },
  "language_info": {
   "codemirror_mode": {
    "name": "ipython",
    "version": 3
   },
   "file_extension": ".py",
   "mimetype": "text/x-python",
   "name": "python",
   "nbconvert_exporter": "python",
   "pygments_lexer": "ipython3",
   "version": "3.9.19"
  },
  "toc": {
   "base_numbering": 1,
   "nav_menu": {},
   "number_sections": true,
   "sideBar": true,
   "skip_h1_title": true,
   "title_cell": "Table of Contents",
   "title_sidebar": "Contents",
   "toc_cell": false,
   "toc_position": {},
   "toc_section_display": true,
   "toc_window_display": false
  }
 },
 "nbformat": 4,
 "nbformat_minor": 2
}
